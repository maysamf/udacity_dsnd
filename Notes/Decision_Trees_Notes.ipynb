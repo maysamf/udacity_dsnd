{
 "cells": [
  {
   "cell_type": "markdown",
   "metadata": {},
   "source": [
    "# Decision Trees\n",
    "## Entropy\n",
    "The entropy is inversely proportional to the ... (not quantitatively but in general).\n",
    "\n",
    "The **formula** is:\n",
    "\\begin{equation}\n",
    "entropy = - \\frac{m}{m+n} \\log_2{\\frac{m}{m+n}} - \\frac{n}{m+n} \\log_2{\\frac{n}{m+n}}\n",
    "\\end{equation}\n",
    "It can be rewriten in terms of probalility as:\n",
    "\\begin{equation}\n",
    "P_1 = \\frac{m}{m+n}\n",
    "\\end{equation}\n",
    "\\begin{equation}\n",
    "P_2 = \\frac{n}{m+n}\n",
    "\\end{equation}\n",
    "\\begin{equation}\n",
    "entropy = - P_1 \\log_2{P_1} - P_2 \\log_2{P_2}\n",
    "\\end{equation}\n",
    "For multi class entropy, the formula can be expanded as follows:\n",
    "\\begin{equation}\n",
    "entropy = - P_1 \\log_2{P_1} - P_2 \\log_2{P_2} - ...- P_n \\log_2{P_n} = \\sum_{i=1}^{n} - P_i \\log_2{P_i}\n",
    "\\end{equation}\n",
    "## Information gain\n",
    "It is the difference in entropy between the parent and the children.\n",
    "\\begin{equation}\n",
    "information gain = entropy(parent) - [\\frac{m}{m+n} entropy(child 1)+\\frac{n}{m+n} entropy(child 2)]\n",
    "\\end{equation}"
   ]
  },
  {
   "cell_type": "markdown",
   "metadata": {},
   "source": [
    "### Quiz for Maximizing Information Gain\n",
    "For the following quiz, consider the data found in \"ml-bugs.csv\" file, consisting of twenty-four made-up insects measured on their length and color.\n",
    "\n",
    "*Which of the following splitting criteria provides the most information gain for discriminating Mobugs from Lobugs?*\n",
    "The answer is: Length < 17.0mm"
   ]
  },
  {
   "cell_type": "code",
   "execution_count": 2,
   "metadata": {},
   "outputs": [],
   "source": [
    "def two_group_ent(first, tot):                        \n",
    "    return -(first/tot*np.log2(first/tot) +           \n",
    "             (tot-first)/tot*np.log2((tot-first)/tot))"
   ]
  },
  {
   "cell_type": "code",
   "execution_count": 4,
   "metadata": {},
   "outputs": [],
   "source": [
    "tot_ent = two_group_ent(10, 24)                       \n",
    "g17_ent = 15/24 * two_group_ent(11,15) + 9/24 * two_group_ent(6,9)                  "
   ]
  },
  {
   "cell_type": "code",
   "execution_count": 6,
   "metadata": {},
   "outputs": [
    {
     "name": "stdout",
     "output_type": "stream",
     "text": [
      "0.11260735516748976\n"
     ]
    }
   ],
   "source": [
    "answer = tot_ent - g17_ent \n",
    "print(answer)"
   ]
  },
  {
   "cell_type": "markdown",
   "metadata": {},
   "source": [
    "## Hyperparameters for Decision Trees\n",
    "These parameters are used to tune in the decision tree and make it generalized."
   ]
  }
 ],
 "metadata": {
  "kernelspec": {
   "display_name": "Python 3",
   "language": "python",
   "name": "python3"
  },
  "language_info": {
   "codemirror_mode": {
    "name": "ipython",
    "version": 3
   },
   "file_extension": ".py",
   "mimetype": "text/x-python",
   "name": "python",
   "nbconvert_exporter": "python",
   "pygments_lexer": "ipython3",
   "version": "3.7.3"
  },
  "toc": {
   "base_numbering": 1,
   "nav_menu": {},
   "number_sections": true,
   "sideBar": true,
   "skip_h1_title": false,
   "title_cell": "Table of Contents",
   "title_sidebar": "Contents",
   "toc_cell": false,
   "toc_position": {},
   "toc_section_display": true,
   "toc_window_display": false
  },
  "varInspector": {
   "cols": {
    "lenName": 16,
    "lenType": 16,
    "lenVar": 40
   },
   "kernels_config": {
    "python": {
     "delete_cmd_postfix": "",
     "delete_cmd_prefix": "del ",
     "library": "var_list.py",
     "varRefreshCmd": "print(var_dic_list())"
    },
    "r": {
     "delete_cmd_postfix": ") ",
     "delete_cmd_prefix": "rm(",
     "library": "var_list.r",
     "varRefreshCmd": "cat(var_dic_list()) "
    }
   },
   "types_to_exclude": [
    "module",
    "function",
    "builtin_function_or_method",
    "instance",
    "_Feature"
   ],
   "window_display": false
  }
 },
 "nbformat": 4,
 "nbformat_minor": 2
}
